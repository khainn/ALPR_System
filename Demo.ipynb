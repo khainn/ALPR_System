{
  "nbformat": 4,
  "nbformat_minor": 0,
  "metadata": {
    "colab": {
      "name": "Welcome To Colaboratory",
      "provenance": [],
      "collapsed_sections": [],
      "toc_visible": true,
      "include_colab_link": true
    },
    "kernelspec": {
      "display_name": "Python 3",
      "name": "python3"
    }
  },
  "cells": [
    {
      "cell_type": "markdown",
      "metadata": {
        "id": "view-in-github",
        "colab_type": "text"
      },
      "source": [
        "<a href=\"https://colab.research.google.com/github/khainn/ALPR_System/blob/master/Demo.ipynb\" target=\"_parent\"><img src=\"https://colab.research.google.com/assets/colab-badge.svg\" alt=\"Open In Colab\"/></a>"
      ]
    },
    {
      "cell_type": "code",
      "metadata": {
        "id": "vtersq-Ub9Hz",
        "outputId": "5fc898cb-2a03-473b-928d-b84b593da131",
        "colab": {
          "base_uri": "https://localhost:8080/"
        }
      },
      "source": [
        "from google.colab import drive\n",
        "drive.mount('/content/drive')"
      ],
      "execution_count": 1,
      "outputs": [
        {
          "output_type": "stream",
          "text": [
            "Mounted at /content/drive\n"
          ],
          "name": "stdout"
        }
      ]
    },
    {
      "cell_type": "code",
      "metadata": {
        "id": "EL9OChsGd70f"
      },
      "source": [
        "!find . -name \\*.pyc -delete"
      ],
      "execution_count": 7,
      "outputs": []
    },
    {
      "cell_type": "code",
      "metadata": {
        "id": "Inpz1A14dKm1",
        "outputId": "b3d3fb9b-083d-4123-e065-7dd8e681dc43",
        "colab": {
          "base_uri": "https://localhost:8080/"
        }
      },
      "source": [
        "!python3 /content/drive/MyDrive/BaiTapAI/PJ2/EAST/eval.py --test_data_path=/content/drive/MyDrive/PicturePicture/ --gpu_list=0 --checkpoint_path=/content/drive/MyDrive/BaiTapAI/PJ2/EAST/result/ \\\r\n",
        "--output_path=/content/drive/MyDrive/BaiTapAI/PJ2/crnn/tmp/"
      ],
      "execution_count": 13,
      "outputs": [
        {
          "output_type": "stream",
          "text": [
            "/usr/local/lib/python3.7/dist-packages/tensorflow/python/framework/dtypes.py:526: FutureWarning: Passing (type, 1) or '1type' as a synonym of type is deprecated; in a future version of numpy, it will be understood as (type, (1,)) / '(1,)type'.\n",
            "  _np_qint8 = np.dtype([(\"qint8\", np.int8, 1)])\n",
            "/usr/local/lib/python3.7/dist-packages/tensorflow/python/framework/dtypes.py:527: FutureWarning: Passing (type, 1) or '1type' as a synonym of type is deprecated; in a future version of numpy, it will be understood as (type, (1,)) / '(1,)type'.\n",
            "  _np_quint8 = np.dtype([(\"quint8\", np.uint8, 1)])\n",
            "/usr/local/lib/python3.7/dist-packages/tensorflow/python/framework/dtypes.py:528: FutureWarning: Passing (type, 1) or '1type' as a synonym of type is deprecated; in a future version of numpy, it will be understood as (type, (1,)) / '(1,)type'.\n",
            "  _np_qint16 = np.dtype([(\"qint16\", np.int16, 1)])\n",
            "/usr/local/lib/python3.7/dist-packages/tensorflow/python/framework/dtypes.py:529: FutureWarning: Passing (type, 1) or '1type' as a synonym of type is deprecated; in a future version of numpy, it will be understood as (type, (1,)) / '(1,)type'.\n",
            "  _np_quint16 = np.dtype([(\"quint16\", np.uint16, 1)])\n",
            "/usr/local/lib/python3.7/dist-packages/tensorflow/python/framework/dtypes.py:530: FutureWarning: Passing (type, 1) or '1type' as a synonym of type is deprecated; in a future version of numpy, it will be understood as (type, (1,)) / '(1,)type'.\n",
            "  _np_qint32 = np.dtype([(\"qint32\", np.int32, 1)])\n",
            "/usr/local/lib/python3.7/dist-packages/tensorflow/python/framework/dtypes.py:535: FutureWarning: Passing (type, 1) or '1type' as a synonym of type is deprecated; in a future version of numpy, it will be understood as (type, (1,)) / '(1,)type'.\n",
            "  np_resource = np.dtype([(\"resource\", np.ubyte, 1)])\n",
            "make: Entering directory '/content/drive/.shortcut-targets-by-id/1QON4fUMrP48mqLu_NJUD1D7yQMGhqLwm/vietnamese_ocr-master/PJ2/EAST/lanms'\n",
            "make: 'adaptor.so' is up to date.\n",
            "make: Leaving directory '/content/drive/.shortcut-targets-by-id/1QON4fUMrP48mqLu_NJUD1D7yQMGhqLwm/vietnamese_ocr-master/PJ2/EAST/lanms'\n",
            "Traceback (most recent call last):\n",
            "  File \"/content/drive/MyDrive/BaiTapAI/PJ2/EAST/eval.py\", line 16, in <module>\n",
            "    from icdar import restore_rectangle\n",
            "  File \"/content/drive/.shortcut-targets-by-id/1QON4fUMrP48mqLu_NJUD1D7yQMGhqLwm/vietnamese_ocr-master/PJ2/EAST/icdar.py\", line 606\n",
            "    if not os.path.exists(txt_fn):\n",
            "                                 ^\n",
            "TabError: inconsistent use of tabs and spaces in indentation\n"
          ],
          "name": "stdout"
        }
      ]
    }
  ]
}